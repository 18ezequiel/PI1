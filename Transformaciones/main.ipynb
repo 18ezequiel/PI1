{
 "cells": [
  {
   "cell_type": "code",
   "execution_count": 2,
   "metadata": {},
   "outputs": [],
   "source": [
    "from transformaciones import Transformaciones\n",
    "import pandas as pd"
   ]
  },
  {
   "cell_type": "code",
   "execution_count": 2,
   "metadata": {},
   "outputs": [],
   "source": [
    "# AMAZON\n",
    "\n",
    "path = '/home/ezequiell/Escritorio/PI1_DETA/PI1/Transformaciones/Data_cruda/amazon_prime_titles-score.csv'"
   ]
  },
  {
   "cell_type": "code",
   "execution_count": 1,
   "metadata": {},
   "outputs": [],
   "source": [
    "# DISNEY\n",
    "\n",
    "path = '/home/ezequiell/Escritorio/PI1_DETA/PI1/Transformaciones/Data_cruda/disney_plus_titles-score.csv'"
   ]
  },
  {
   "cell_type": "code",
   "execution_count": 41,
   "metadata": {},
   "outputs": [],
   "source": [
    "# HULU\n",
    "\n",
    "path = '/home/ezequiell/Escritorio/PI1_DETA/PI1/Transformaciones/Data_cruda/hulu_titles-score (2).csv'"
   ]
  },
  {
   "cell_type": "code",
   "execution_count": 8,
   "metadata": {},
   "outputs": [],
   "source": [
    "# NETFLIX\n",
    "\n",
    "path = '/home/ezequiell/Escritorio/PI1_DETA/PI1/Transformaciones/Data_cruda/netflix_titles-score.csv'"
   ]
  },
  {
   "cell_type": "code",
   "execution_count": null,
   "metadata": {},
   "outputs": [],
   "source": [
    "data = Transformaciones()\n",
    "data.complete(path)"
   ]
  },
  {
   "cell_type": "code",
   "execution_count": 5,
   "metadata": {},
   "outputs": [],
   "source": [
    "df = pd.read_csv('/home/ezequiell/Escritorio/PI1_DETA/PI1/Transformaciones/Datasets/amazon.csv')\n"
   ]
  },
  {
   "cell_type": "code",
   "execution_count": null,
   "metadata": {},
   "outputs": [],
   "source": [
    "df"
   ]
  }
 ],
 "metadata": {
  "kernelspec": {
   "display_name": "PI1-env",
   "language": "python",
   "name": "python3"
  },
  "language_info": {
   "codemirror_mode": {
    "name": "ipython",
    "version": 3
   },
   "file_extension": ".py",
   "mimetype": "text/x-python",
   "name": "python",
   "nbconvert_exporter": "python",
   "pygments_lexer": "ipython3",
   "version": "3.10.8 (main, Nov  1 2022, 14:18:21) [GCC 12.2.0]"
  },
  "orig_nbformat": 4,
  "vscode": {
   "interpreter": {
    "hash": "36b5eafe5901e53920baabb597a26c42a1d3a4bec44d08e0bc0bacfba5c6bf43"
   }
  }
 },
 "nbformat": 4,
 "nbformat_minor": 2
}
